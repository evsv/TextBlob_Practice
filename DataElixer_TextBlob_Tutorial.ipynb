{
 "cells": [
  {
   "cell_type": "markdown",
   "metadata": {},
   "source": [
    "# Basics of Grammar\n",
    "\n",
    "Texts comprise of sentences. Sentences comprise of words. Depending on the context, the word serves as different parts of speech (Noun, pronoun, etc)\n",
    "\n",
    "### Sentence Structures\n",
    " \n",
    "The bottom line when it comes to sentence structures is that we have different types of phrases - Verb Phrases, Noun Phrases, etc. \n",
    "\n",
    "NLP libraries break sentences into these trees to extract relevant phrases. \n",
    "\n",
    "### Morphologies\n",
    "\n",
    "Morphologies are the \"forms\" fo words (recall \"verb form\", \"noun form\", etc?) which might change their meaning, depending on the prefix and suffix. \n",
    "\n",
    "A word's \"lemma\" is the most basic form of the word (*Q: Is lemma the same as root word?*). Ex: lemma of octopuii is octopus, lemma of singing is sing, etc."
   ]
  },
  {
   "cell_type": "code",
   "execution_count": 2,
   "metadata": {
    "collapsed": true
   },
   "outputs": [],
   "source": [
    "from textblob import TextBlob\n",
    "from textblob import Word"
   ]
  },
  {
   "cell_type": "markdown",
   "metadata": {},
   "source": [
    "### Extracting PoS"
   ]
  },
  {
   "cell_type": "code",
   "execution_count": 15,
   "metadata": {},
   "outputs": [
    {
     "name": "stdout",
     "output_type": "stream",
     "text": [
      "Blob number 1\n",
      "This is a sentence.\n",
      "This is also a sentence.\n",
      "Blob number 2\n",
      "This is a sentence; this is an independent clause\n",
      "Blob number 3\n",
      "This.\n",
      "is.\n",
      "frustratingly.\n",
      "a. sentence.\n",
      "Dr.Livingstone, I presume!\n",
      "Blob number 1\n",
      "Sentence number 1\n",
      "This\n",
      "is\n",
      "a\n",
      "sentence\n",
      "Sentence number 2\n",
      "This\n",
      "is\n",
      "also\n",
      "a\n",
      "sentence\n",
      "Blob number 2\n",
      "Sentence number 1\n",
      "This\n",
      "is\n",
      "a\n",
      "sentence\n",
      "this\n",
      "is\n",
      "an\n",
      "independent\n",
      "clause\n",
      "Blob number 3\n",
      "Sentence number 1\n",
      "This\n",
      "Sentence number 2\n",
      "is\n",
      "Sentence number 3\n",
      "frustratingly\n",
      "Sentence number 4\n",
      "a\n",
      "sentence\n",
      "Blob number 4\n",
      "Sentence number 1\n",
      "Dr.Livingstone\n",
      "I\n",
      "presume\n"
     ]
    }
   ],
   "source": [
    "string1 = \"This is a sentence. This is also a sentence.\"\n",
    "string2 = \"This is a sentence; this is an independent clause\"\n",
    "string3 = \"This. is. frustratingly. a. sentence.\"\n",
    "\n",
    "blob1 = TextBlob(string1)\n",
    "blob2 = TextBlob(string2)\n",
    "blob3 = TextBlob(string3)\n",
    "blobList = [blob1, blob2, blob3]\n",
    "\n",
    "count = 1\n",
    "for blob in blobList:\n",
    "    print(\"Blob number \" + str(count))\n",
    "    for sentence in blob.sentences:\n",
    "        print(sentence)\n",
    "        \n",
    "    count += 1\n",
    "    \n",
    "# Observe how for blob 3, every sentence is delimited by a period, except for the one containing \"a\"\n",
    "\n",
    "blobDoctor = TextBlob(\"Dr.Livingstone, I presume!\")\n",
    "for sentence in blobDoctor.sentences:\n",
    "    print(sentence)\n",
    "\n",
    "#However, TextBlob seems to realise when contractions like Dr. are not sentence terminators\n",
    "blobList.append(blobDoctor)\n",
    "\n",
    "count = 1\n",
    "for blob in blobList:\n",
    "    print(\"Blob number \" + str(count))\n",
    "    sentenceCount = 1\n",
    "\n",
    "    for sentence in blob.sentences:\n",
    "        print(\"Sentence number \" + str(sentenceCount))\n",
    "        for word in sentence.words:\n",
    "            print(word)\n",
    "        \n",
    "        sentenceCount += 1\n",
    "    \n",
    "    count += 1"
   ]
  },
  {
   "cell_type": "code",
   "execution_count": 14,
   "metadata": {},
   "outputs": [
    {
     "name": "stdout",
     "output_type": "stream",
     "text": [
      "Blob number 1\n",
      "This is a sentence. This is also a sentence.\n",
      "Blob number 2\n",
      "This is a sentence; this is an independent clause\n",
      "The noun phrase here is: independent clause\n",
      "Blob number 3\n",
      "This. is. frustratingly. a. sentence.\n",
      "The noun phrase here is: a. sentence\n",
      "Blob number 4\n",
      "Dr.Livingstone, I presume!\n",
      "The noun phrase here is: dr.livingstone\n"
     ]
    }
   ],
   "source": [
    "count = 1\n",
    "for blob in blobList:\n",
    "    print(\"Blob number \" + str(count))\n",
    "    print(blob)    \n",
    "    for np in blob.noun_phrases:\n",
    "        print(\"The noun phrase here is: \" + np)\n",
    "        \n",
    "    count += 1"
   ]
  },
  {
   "cell_type": "markdown",
   "metadata": {},
   "source": [
    "### Modifying Words"
   ]
  },
  {
   "cell_type": "code",
   "execution_count": null,
   "metadata": {
    "collapsed": true
   },
   "outputs": [],
   "source": [
    "word1 = Word(\"Hiking\")\n",
    "word2 = Word(\"Octopus\")\n",
    "word3 = Word(\"Ignoronamus\")\n",
    "word4 = Word(\"xkcd\")\n",
    "\n",
    "wordList = [word1, word2, word3, word4]\n",
    "\n",
    "for word in wordList:\n",
    "    print"
   ]
  }
 ],
 "metadata": {
  "kernelspec": {
   "display_name": "Python 3",
   "language": "python",
   "name": "python3"
  },
  "language_info": {
   "codemirror_mode": {
    "name": "ipython",
    "version": 3
   },
   "file_extension": ".py",
   "mimetype": "text/x-python",
   "name": "python",
   "nbconvert_exporter": "python",
   "pygments_lexer": "ipython3",
   "version": "3.6.3"
  }
 },
 "nbformat": 4,
 "nbformat_minor": 2
}
