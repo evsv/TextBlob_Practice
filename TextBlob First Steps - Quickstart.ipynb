{
 "cells": [
  {
   "cell_type": "code",
   "execution_count": 2,
   "metadata": {
    "collapsed": true
   },
   "outputs": [],
   "source": [
    "from textblob import TextBlob"
   ]
  },
  {
   "cell_type": "markdown",
   "metadata": {},
   "source": [
    "# Parts of Sentences"
   ]
  },
  {
   "cell_type": "code",
   "execution_count": 9,
   "metadata": {
    "collapsed": true
   },
   "outputs": [],
   "source": [
    "wikiStr = \"Python is a high level, general purpose programming language\"\n",
    "wikiBlob = TextBlob(wikiStr)\n",
    "\n",
    "introBlob = TextBlob(\"Hello! My name is Vishwanath\")\n",
    "fruitBlob = TextBlob(\"Apples and Oranges\")\n",
    "ActBlob = TextBlob(\"A fish! A fish! My kingdom for a fish!\")"
   ]
  },
  {
   "cell_type": "code",
   "execution_count": 15,
   "metadata": {},
   "outputs": [
    {
     "name": "stdout",
     "output_type": "stream",
     "text": [
      "[('Python', 'NNP'), ('is', 'VBZ'), ('a', 'DT'), ('high', 'JJ'), ('level', 'NN'), ('general', 'JJ'), ('purpose', 'NN'), ('programming', 'NN'), ('language', 'NN')]\n",
      "[('Hello', 'NN'), ('My', 'PRP$'), ('name', 'NN'), ('is', 'VBZ'), ('Vishwanath', 'NNP')]\n",
      "[('Apples', 'NNS'), ('and', 'CC'), ('Oranges', 'NNS')]\n",
      "[('A', 'DT'), ('fish', 'NN'), ('A', 'DT'), ('fish', 'NN'), ('My', 'PRP$'), ('kingdom', 'NN'), ('for', 'IN'), ('a', 'DT'), ('fish', 'NN')]\n"
     ]
    }
   ],
   "source": [
    "print(wikiBlob.tags)\n",
    "print(introBlob.tags)\n",
    "print(fruitBlob.tags)\n",
    "print(ActBlob.tags)"
   ]
  },
  {
   "cell_type": "code",
   "execution_count": 6,
   "metadata": {},
   "outputs": [
    {
     "name": "stdout",
     "output_type": "stream",
     "text": [
      "Nouns and phrases\n"
     ]
    },
    {
     "data": {
      "text/plain": [
       "WordList(['python', 'high level', 'general purpose'])"
      ]
     },
     "execution_count": 6,
     "metadata": {},
     "output_type": "execute_result"
    }
   ],
   "source": [
    "wikiBlob.noun_phrases"
   ]
  },
  {
   "cell_type": "markdown",
   "metadata": {},
   "source": [
    "# Sentiment Analysis"
   ]
  },
  {
   "cell_type": "code",
   "execution_count": 17,
   "metadata": {},
   "outputs": [
    {
     "name": "stdout",
     "output_type": "stream",
     "text": [
      "Sentiment(polarity=0.39166666666666666, subjectivity=0.4357142857142857)\n",
      "Sentiment(polarity=-1.0, subjectivity=1.0)\n",
      "Sentiment(polarity=-0.234375, subjectivity=0.5)\n",
      "Sentiment(polarity=-0.35, subjectivity=0.6000000000000001)\n"
     ]
    }
   ],
   "source": [
    "testimonialBlob = TextBlob(\"Textblob is amazingly simple to use. What great fun!\")\n",
    "politBlob = TextBlob(\"Jimmy carter was the worst president we ever had\")\n",
    "hodlBlob = TextBlob(\"Hold your bitcoins people! The establishment wont let the little guys earn money!\")\n",
    "politBlob2 = TextBlob(\"Jimmy Carter was certainly not a good president\")\n",
    "\n",
    "print(testimonialBlob.sentiment)\n",
    "print(politBlob.sentiment)\n",
    "print(hodlBlob.sentiment)\n",
    "print(politBlob2.sentiment)"
   ]
  },
  {
   "cell_type": "code",
   "execution_count": 3,
   "metadata": {},
   "outputs": [
    {
     "name": "stdout",
     "output_type": "stream",
     "text": [
      "Sentiment(polarity=-1.0, subjectivity=1.0)\n",
      "Sentiment(polarity=0.39999999999999997, subjectivity=0.8)\n",
      "Sentiment(polarity=0.3666666666666667, subjectivity=0.5333333333333333)\n",
      "Sentiment(polarity=0.5, subjectivity=0.5)\n",
      "Sentiment(polarity=0.3375, subjectivity=0.625)\n",
      "Sentiment(polarity=0.18749999999999997, subjectivity=0.5625)\n",
      "Sentiment(polarity=0.6041666666666666, subjectivity=0.9166666666666667)\n"
     ]
    }
   ],
   "source": [
    "sentBlobNegHigh = TextBlob(\"BoJack Horseman is a terrible show! All it does is complain\")\n",
    "sentBlobNegMed = TextBlob(\"BoJack Horseman is far from good. It passes bitterness as humour\")\n",
    "sentBlobNegLo = TextBlob(\"BoJack Horseman isn't too good. It's bitter most of the time\")\n",
    "sentBlobNeutral = TextBlob(\"BoJack Horseman is OK\")\n",
    "sentBlobPosLo = TextBlob(\"BoJack Horseman is kind of nice. The dark humour is fun\")\n",
    "sentBlobPosMed = TextBlob(\"BoJack Horseman is pretty cool. Really fun and dark humour\")\n",
    "sentBlobPosHigh = TextBlob(\"BoJack Horseman is brilliant! It's insanely clever!\")\n",
    "\n",
    "print(sentBlobNegHigh.sentiment)\n",
    "print(sentBlobNegMed.sentiment)\n",
    "print(sentBlobNegLo.sentiment)\n",
    "print(sentBlobNeutral.sentiment)\n",
    "print(sentBlobPosLo.sentiment)\n",
    "print(sentBlobPosMed.sentiment)\n",
    "print(sentBlobPosHigh.sentiment)"
   ]
  }
 ],
 "metadata": {
  "kernelspec": {
   "display_name": "Python 3",
   "language": "python",
   "name": "python3"
  },
  "language_info": {
   "codemirror_mode": {
    "name": "ipython",
    "version": 3
   },
   "file_extension": ".py",
   "mimetype": "text/x-python",
   "name": "python",
   "nbconvert_exporter": "python",
   "pygments_lexer": "ipython3",
   "version": "3.6.3"
  }
 },
 "nbformat": 4,
 "nbformat_minor": 2
}
